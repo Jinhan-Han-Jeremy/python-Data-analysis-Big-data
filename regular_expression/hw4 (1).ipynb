{
 "cells": [
  {
   "cell_type": "markdown",
   "metadata": {},
   "source": [
    "# HW 4: Regular Expressions\n",
    "\n",
    "* Fill in the missing codes below marked xxx\n",
    "* Then test and run your program to produce the answers for the questions in the quiz\n",
    "* Do not delete or altern any codes or text.\n",
    "* You get can full credit only if your program pass the test!\n",
    "* You may  get partial credit only if the output of your program is very close to the expected!\n",
    "\n",
    "\n",
    "* Reference: https://www.programiz.com/python-programming/regex"
   ]
  },
  {
   "cell_type": "markdown",
   "metadata": {},
   "source": [
    "# Q1 (5pt): \n",
    "\n",
    "* Captalize the first word of the paragraph and indent it with 2 spaces."
   ]
  },
  {
   "cell_type": "code",
   "execution_count": 1,
   "metadata": {},
   "outputs": [
    {
     "data": {
      "text/plain": [
       "['__add__',\n",
       " '__class__',\n",
       " '__contains__',\n",
       " '__delattr__',\n",
       " '__dir__',\n",
       " '__doc__',\n",
       " '__eq__',\n",
       " '__format__',\n",
       " '__ge__',\n",
       " '__getattribute__',\n",
       " '__getitem__',\n",
       " '__getnewargs__',\n",
       " '__gt__',\n",
       " '__hash__',\n",
       " '__init__',\n",
       " '__init_subclass__',\n",
       " '__iter__',\n",
       " '__le__',\n",
       " '__len__',\n",
       " '__lt__',\n",
       " '__mod__',\n",
       " '__mul__',\n",
       " '__ne__',\n",
       " '__new__',\n",
       " '__reduce__',\n",
       " '__reduce_ex__',\n",
       " '__repr__',\n",
       " '__rmod__',\n",
       " '__rmul__',\n",
       " '__setattr__',\n",
       " '__sizeof__',\n",
       " '__str__',\n",
       " '__subclasshook__',\n",
       " 'capitalize',\n",
       " 'casefold',\n",
       " 'center',\n",
       " 'count',\n",
       " 'encode',\n",
       " 'endswith',\n",
       " 'expandtabs',\n",
       " 'find',\n",
       " 'format',\n",
       " 'format_map',\n",
       " 'index',\n",
       " 'isalnum',\n",
       " 'isalpha',\n",
       " 'isascii',\n",
       " 'isdecimal',\n",
       " 'isdigit',\n",
       " 'isidentifier',\n",
       " 'islower',\n",
       " 'isnumeric',\n",
       " 'isprintable',\n",
       " 'isspace',\n",
       " 'istitle',\n",
       " 'isupper',\n",
       " 'join',\n",
       " 'ljust',\n",
       " 'lower',\n",
       " 'lstrip',\n",
       " 'maketrans',\n",
       " 'partition',\n",
       " 'replace',\n",
       " 'rfind',\n",
       " 'rindex',\n",
       " 'rjust',\n",
       " 'rpartition',\n",
       " 'rsplit',\n",
       " 'rstrip',\n",
       " 'split',\n",
       " 'splitlines',\n",
       " 'startswith',\n",
       " 'strip',\n",
       " 'swapcase',\n",
       " 'title',\n",
       " 'translate',\n",
       " 'upper',\n",
       " 'zfill']"
      ]
     },
     "execution_count": 1,
     "metadata": {},
     "output_type": "execute_result"
    }
   ],
   "source": [
    "dir (\"xx\")"
   ]
  },
  {
   "cell_type": "code",
   "execution_count": 39,
   "metadata": {},
   "outputs": [
    {
     "name": "stdout",
     "output_type": "stream",
     "text": [
      "The testcase passes!\n",
      "\n",
      "\n",
      "  She saw a orange in the tree.\n",
      " i ate a apple today, didn't i?\n",
      " he saw a orange in the tree.\n",
      "   i have an book, don't i?\n"
     ]
    }
   ],
   "source": [
    "import re\n",
    "\n",
    "def grammar0 (x):\n",
    "    \"\"\"Captalize the first word of the paragraph and indent it with 2 spaces.\"\"\"\n",
    "    # xxx in the code here\n",
    "    y = x.group('uppercase') \n",
    "    \n",
    "    return \"  \" + y[-1].capitalize() # The capitalized last char\n",
    "    #.group() returns the part of the string where there was a match\n",
    "    \n",
    "x = \"\"\"   she saw a orange in the tree.\n",
    " i ate a apple today, didn't i?\n",
    " he saw a orange in the tree.\n",
    "   i have an book, don't i?\"\"\"\n",
    "\n",
    "\n",
    "# xxx fill in the regular expression (re) below in the same line line  \n",
    "# \\s+ consume spaces and \\w consume first character\n",
    "p0 = r\"(?P<uppercase>^\\s+\\w)\" \n",
    "\n",
    "\"\"\"\n",
    "    \\s Matches any whitespace character; \n",
    "    \\w Matches any alphanumeric character;\n",
    "    ^ start matching inside string\n",
    "    ?p<format> capture \"foramt\"group\n",
    "    \"\"\"\n",
    "\n",
    "x = re.sub (p0, grammar0, x )\n",
    "\n",
    "\n",
    "answer = \"\"\"  She saw a orange in the tree.\n",
    " i ate a apple today, didn't i?\n",
    " he saw a orange in the tree.\n",
    "   i have an book, don't i?\"\"\"\n",
    "\n",
    "try:\n",
    "    assert str(x)==str(answer),  \"fail!\"\n",
    "    print (\"The testcase passes!\\n\\n\")\n",
    "except AssertionError as e:\n",
    "    print( e )\n",
    "finally:\n",
    "    print (x)"
   ]
  },
  {
   "cell_type": "markdown",
   "metadata": {},
   "source": [
    "# Q2 (5pt):\n",
    "\n",
    "* Captalize the first word of each sentence.\n"
   ]
  },
  {
   "cell_type": "code",
   "execution_count": 44,
   "metadata": {},
   "outputs": [
    {
     "name": "stdout",
     "output_type": "stream",
     "text": [
      "The testcase passes!\n",
      "\n",
      "\n",
      "  She saw a orange in the tree.\n",
      "I ate a apple today, didn't i?\n",
      "He saw a orange in the tree.\n",
      "I have an book, don't i?\n"
     ]
    }
   ],
   "source": [
    "def grammar1 (x):\n",
    "    \"\"\"Captalize the first word of each sentence.\"\"\"\n",
    "    y = x.group('uppercase')\n",
    "    # xxx fill in the missing codes\n",
    "    return y[0] + \"\\n\" + y[-1].capitalize() \n",
    "\n",
    "# xxx fill in the regular expression (re) below in the same line line    \n",
    "p1 = r\"(?P<uppercase>[?.!]\\s+\\w)\"\n",
    "    #[?.!]$ must end with ? or ! or .\n",
    "\n",
    "\n",
    "x = re.sub (p1, grammar1, x )\n",
    "\n",
    "answer = \"\"\"  She saw a orange in the tree.\n",
    "I ate a apple today, didn't i?\n",
    "He saw a orange in the tree.\n",
    "I have an book, don't i?\"\"\"\n",
    "\n",
    "try:\n",
    "    assert str(x)==str(answer),  \"fail!\"\n",
    "    print (\"The testcase passes!\\n\\n\")\n",
    "except AssertionError as e:\n",
    "    print( e )\n",
    "finally:\n",
    "    print (x)"
   ]
  },
  {
   "cell_type": "markdown",
   "metadata": {},
   "source": [
    "# Q3 (5pt):\n",
    "* Uppercase each little i"
   ]
  },
  {
   "cell_type": "code",
   "execution_count": 46,
   "metadata": {},
   "outputs": [
    {
     "name": "stdout",
     "output_type": "stream",
     "text": [
      "The testcase passes!\n",
      "\n",
      "\n",
      "  She saw a orange in the tree.\n",
      "I ate a apple today, didn't I?\n",
      "He saw a orange in the tree.\n",
      "I have an book, don't I?\n"
     ]
    }
   ],
   "source": [
    "import re\n",
    "\n",
    "def grammar2 (x):\n",
    "    \"\"\"Uppercase each little i\"\"\"\n",
    "    y =x.group('I') \n",
    "    # xxx fill in the missing codes\n",
    "    return y[0] + y[1].capitalize() + y[2]\n",
    "    #0, 1, 2 character in string y\n",
    "\n",
    "# xxx fill in the regular expression (re) below in the same line line    \n",
    "p2 = r\"(?P<I>\\si\\s|\\si[?.!])\"\n",
    "#if P<i>\n",
    "\n",
    "x = re.sub(p2, grammar2, x)\n",
    "answer = \"\"\"  She saw a orange in the tree.\n",
    "I ate a apple today, didn't I?\n",
    "He saw a orange in the tree.\n",
    "I have an book, don't I?\"\"\"\n",
    "\n",
    "try:\n",
    "    assert str(x)==str(answer),  \"fail!\"\n",
    "    print (\"The testcase passes!\\n\\n\")\n",
    "except AssertionError as e:\n",
    "    print( e )\n",
    "finally:\n",
    "    print (x)"
   ]
  },
  {
   "cell_type": "markdown",
   "metadata": {},
   "source": [
    "# Q4 (10pt):\n",
    "\n",
    "* Correct the usage of indefinite arfticle.\n",
    "* The general rule is to use \n",
    "    * a  when the indefinite article precedes a word beginning with a consonant sound  \n",
    "    * an when it precedes a word starting with a vowel sound."
   ]
  },
  {
   "cell_type": "code",
   "execution_count": 6,
   "metadata": {},
   "outputs": [
    {
     "name": "stdout",
     "output_type": "stream",
     "text": [
      "The testcase passes!\n",
      "\n",
      "\n",
      "  She saw an orange in the tree.\n",
      "I ate an apple today, didn't I?\n",
      "He saw an orange in the tree.\n",
      "I have a book, don't I?\n"
     ]
    }
   ],
   "source": [
    "import re\n",
    "\n",
    "def grammar3 (x):\n",
    "    \"\"\"Correct the usage of indefinite article \"\"\"\n",
    "    y = x.group('indefinite') \n",
    "    # xxx fill in the missing codes\n",
    "    if(y[2] == 'n'): # If we change an to a\n",
    "        y = \" a\" + y[3:] \n",
    "        \n",
    "    else: \n",
    "        y = \" an\" + y[2:]\n",
    "        \n",
    "    return y\n",
    "\n",
    "    \n",
    "\n",
    "# xxx fill in the regular expression (re) below in one line\n",
    "p3 = r\"(?P<indefinite>\\sa\\s+[aeiou]|\\san\\s+[bcdfghjklmnpqrstvwxyz])\"\n",
    "x = re.sub(p3, grammar3, x)\n",
    "\n",
    "answer = \"\"\"  She saw an orange in the tree.\n",
    "I ate an apple today, didn't I?\n",
    "He saw an orange in the tree.\n",
    "I have a book, don't I?\"\"\"\n",
    "\n",
    "try:\n",
    "    assert str(x)==str(answer),  \"fail!\"\n",
    "    print (\"The testcase passes!\\n\\n\")\n",
    "except AssertionError as e:\n",
    "    print( e )\n",
    "finally:\n",
    "    print (x)"
   ]
  },
  {
   "cell_type": "code",
   "execution_count": null,
   "metadata": {},
   "outputs": [],
   "source": []
  },
  {
   "cell_type": "code",
   "execution_count": null,
   "metadata": {},
   "outputs": [],
   "source": []
  },
  {
   "cell_type": "code",
   "execution_count": null,
   "metadata": {},
   "outputs": [],
   "source": []
  },
  {
   "cell_type": "code",
   "execution_count": null,
   "metadata": {},
   "outputs": [],
   "source": []
  }
 ],
 "metadata": {
  "kernelspec": {
   "display_name": "Python 3",
   "language": "python",
   "name": "python3"
  },
  "language_info": {
   "codemirror_mode": {
    "name": "ipython",
    "version": 3
   },
   "file_extension": ".py",
   "mimetype": "text/x-python",
   "name": "python",
   "nbconvert_exporter": "python",
   "pygments_lexer": "ipython3",
   "version": "3.8.3"
  },
  "toc": {
   "nav_menu": {},
   "number_sections": true,
   "sideBar": true,
   "skip_h1_title": false,
   "toc_cell": false,
   "toc_position": {},
   "toc_section_display": "block",
   "toc_window_display": false
  }
 },
 "nbformat": 4,
 "nbformat_minor": 2
}
