{
 "cells": [
  {
   "cell_type": "markdown",
   "metadata": {},
   "source": [
    "# CS122: Advanced Programming with Python\n",
    "# HW#3: Python Class and Object-Oriented Programming"
   ]
  },
  {
   "cell_type": "markdown",
   "metadata": {},
   "source": [
    "* Implement the missing pieces of codes at the places marked xxxx.\n",
    "* Do not delete or alter any portion of this file. \n",
    "\n",
    "* Grading: 5 point for each question\n",
    "    * You get 0 credits if \n",
    "    * your program does not run or produce the expected results\n",
    "    * you delete any portion of the this file. You can only add but not delete things.\n",
    "    * All the variables have to be private and with the pathonic getter and setter methods."
   ]
  },
  {
   "cell_type": "markdown",
   "metadata": {},
   "source": [
    "# Create Test Framework"
   ]
  },
  {
   "cell_type": "code",
   "execution_count": 82,
   "metadata": {},
   "outputs": [],
   "source": [
    "import unittest,re, inspect\n",
    "\n",
    "class TestShapeMethod(unittest.TestCase):\n",
    "    def check (self, string_output, ansKey, trace  = True):\n",
    "        s= string_output\n",
    "        s = re.sub(\"\\s\", \"\", s)\n",
    "        s = re.sub(\"\\(id=\\d+\\)\", \"\", s)\n",
    "\n",
    "        a= sum ( [ ord(x) for x in s ]) # encoding\n",
    "        if trace:\n",
    "            print (string_output)\n",
    "        msg = inspect.stack()[1][3] + \": \"\n",
    "        if (a == ansKey):\n",
    "            msg += \"pass!\"\n",
    "        else:\n",
    "            msg +=  \"fail!\"\n",
    "            print (a, ansKey) \n",
    "        print (msg)\n",
    "        return None\n",
    "# self.assertEqual(a, ansKey, \"fail.\")"
   ]
  },
  {
   "cell_type": "markdown",
   "metadata": {},
   "source": [
    "# Class Shape: Base Class for Various Geometric Shapes"
   ]
  },
  {
   "cell_type": "code",
   "execution_count": 83,
   "metadata": {},
   "outputs": [],
   "source": [
    "import math,copy,re\n",
    "class Shape: \n",
    "    \"\"\"Base class for various geometric shapes\"\"\"\n",
    "    __count = 0 # Global private variable to keep tracking the shape ID\n",
    "    def __init__(self): # constructor\n",
    "        \"\"\"__id == __count \"\"\"\n",
    "        self.__id = Shape.__count \n",
    "        Shape.__count += 1\n",
    "\n",
    "    @property\n",
    "    def id(self): #xxx implement the getter of the private variable __id\n",
    "        \"\"\"Object id = the number of the Shape object created so far\"\"\"\n",
    "        return self.__id \n",
    "\n",
    "    def details (self): \n",
    "        \"\"\"Detailed description of the boject on top of __str__\"\"\"\n",
    "        name = self.__class__.__name__ \n",
    "        x = \"{:s}(id={:d}): \".format (name, self.id)  #string : integered data \n",
    "        s = \"{:20s} \".format (x) #20 digited string -right aligned-: integered format \n",
    "        return s\n",
    "   \n",
    "    def __str__(self): #xxx implement the following\n",
    "        \"\"\"A  string representation of the object in the form of 'Shape(id=n)', where n is a number\"\"\"\n",
    "        return \"{:s}(id={:d})\".format(self.__class__.__name__, self.__id)   #class name and id"
   ]
  },
  {
   "cell_type": "markdown",
   "metadata": {},
   "source": [
    "# Q#1: Test Shape"
   ]
  },
  {
   "cell_type": "code",
   "execution_count": 84,
   "metadata": {},
   "outputs": [
    {
     "name": "stdout",
     "output_type": "stream",
     "text": [
      "\n",
      "test_case: \n",
      "Shape(id=0)\n",
      "Shape(id=0):         \n",
      "Shape(id=1)\n",
      "Shape(id=1):         \n",
      "Shape(id=2)\n",
      "Shape(id=2):         \n",
      "\n",
      "test_case: pass!\n"
     ]
    },
    {
     "name": "stderr",
     "output_type": "stream",
     "text": [
      "----------------------------------------------------------------------\n",
      "Ran 1 test in 0.063s\n",
      "\n",
      "OK\n"
     ]
    }
   ],
   "source": [
    "def test_case(self):\n",
    "    \"\"\"test Circle.__contains__\"\"\"\n",
    "    ans =  \"\\n\" + inspect.stack()[0][3] + \": \\n\"\n",
    "    for i in range (3):\n",
    "        s1 = Shape()\n",
    "        ans += str(s1) + \"\\n\"\n",
    "        ans += s1.details () + \"\\n\"\n",
    "\n",
    "\n",
    "    self.check (ans,4169, True)\n",
    "    \n",
    "TestShapeMethod.test_case = test_case\n",
    "unittest.main(argv=[''], verbosity=0, exit=False)\n",
    "\n",
    "TestShapeMethod.test_Circle_contains = None\n",
    "\n",
    "    \n",
    "s=\"\"\" \n",
    "\n",
    "Expected outputs (except the id numbers and the spaces could be different\n",
    "\n",
    "\n",
    "test_case: \n",
    "Shape(id=0)\n",
    "Shape(id=0):         \n",
    "Shape(id=1)\n",
    "Shape(id=1):         \n",
    "Shape(id=2)\n",
    "Shape(id=2):         \n",
    "\n",
    "test_case: pass!\n",
    "\"\"\""
   ]
  },
  {
   "cell_type": "markdown",
   "metadata": {},
   "source": [
    "# class Circle (Shape)"
   ]
  },
  {
   "cell_type": "code",
   "execution_count": 85,
   "metadata": {},
   "outputs": [],
   "source": [
    "class Circle (Shape): \n",
    "    \"\"\"Child class of Shape\"\"\"\n",
    "    \n",
    "    def __init__(self,x=0,y=0, radius=0): \n",
    "        \"\"\"Shape with center and radius.\"\"\"\n",
    "        super().__init__()  #Inherit shape class\n",
    "        self.__x = x\n",
    "        self.__y = y\n",
    "        self.__radius = radius\n",
    "        \"\"\"This constructor assigns x,y of center and radius\"\"\"\n",
    "\n",
    "    #xxx: implement the following three methods\n",
    "    @property\n",
    "    def x(self): #xxx:  the getter method of __x\n",
    "        return self.__x\n",
    "    \n",
    "    @property\n",
    "    def y(self): #xxx:  the getter method of __y\n",
    "        return self.__y\n",
    "    \n",
    "    @property\n",
    "    def radius(self): #xxx:  the getter method of __radius\n",
    "        return self.__radius\n",
    "    \n",
    "    #xxx: implement the following \n",
    "    def __contains__(self, other):   # overload the boolean operator in\n",
    "        \"\"\"Overload boolean operator in\n",
    "           check if Circle 'self' contains another 'Point' or  'Circle'\n",
    "        \"\"\"\n",
    "        # Don't add the @property in order to use proper codes\n",
    "        distance = math.sqrt(pow((self.x - other.x),2) + pow((self.y - other.y), 2))\n",
    "        #distance btween two circles\n",
    "        \n",
    "        return (distance + other.__radius) <= self.__radius # Returns True if self contains other's center or points, else False\n",
    "    \n",
    "    #xxx: implement the following \n",
    "    def area (self): \n",
    "        \"\"\"The area of Circle\"\"\"\n",
    "        return math.pi * self.__radius ** 2 # Area = pi * radius^2\n",
    "\n",
    "    #xxx: implement the following \n",
    "    def perimeter (self): \n",
    "        \"\"\"The perimeter of Circle\"\"\"\n",
    "        return 2 * math.pi * self.__radius # Perimeter = Circumference = 2 * pi * radius\n",
    "    \n",
    "    def dist(self, other): \n",
    "        \"\"\"the distance between Circle self and Circle (or Point) other  \"\"\"\n",
    "        if other.__class__==Circle or other.__class__.__bases__[0] == Circle:\n",
    "            x = self.x - other.x\n",
    "            y = self.y - other.y\n",
    "            d = math.sqrt(x*x + y*y)-self.__radius-other.__radius\n",
    "            #If the 'd' is positive, two object is not contacted at all\n",
    "            d = max(d,0)\n",
    "            #distance between two circles\n",
    "            return d\n",
    "        else:\n",
    "            return None\n",
    "        \n",
    "    def overlap(self, other): \n",
    "        \"\"\"Two circles (or Points) overlap if their distance is 0.\"\"\"\n",
    "        d = self.dist(other)\n",
    "        return d!=None and d<=0    \n",
    "    \n",
    "    #xxx: implement the function below\n",
    "    def enclose(self, pt):\n",
    "        self.__radius = max(self.__radius, self.dist(pt))\n",
    "        \"\"\" Check if distance to pt is <= radius (if pt is contained in circle)\n",
    "        If not, extend the circle to the distance between center and the pt (min distance)\n",
    "        \"\"\"\n",
    "\n",
    "    #xxx: implement the setter methods for both x and y together\n",
    "    #qqq: is this method better than two separate setter methods?   \n",
    "    def relocate (self, x,y):\n",
    "        \"\"\"Relocate self.__center to (x,y)\"\"\"\n",
    "        ##the x and y is not method. They are perimeter variable\n",
    "        self.__x = x\n",
    "        self.__y = y\n",
    "\n",
    "    #xxx: implement the function below\n",
    "    def moveBy (self, dx,dy):\n",
    "        \"\"\"add the displacement (dx, dy) to the current center location\"\"\"\n",
    "        self.__x += dx\n",
    "        self.__y += dy\n",
    "        \n",
    "    def details ( self):\n",
    "        \"\"\" override Shape.details\"\"\"\n",
    "        s = super().details ()\n",
    "        s += \"area={:.0f}\".format (self.area() )\n",
    "        s += \", radius: {:.1f}\".format ( self.radius )  ##show 1 decimal digit\n",
    "        s += \", center: ({:d},{:d})\".format( self.x, self.y) \n",
    "        return s \n"
   ]
  },
  {
   "cell_type": "markdown",
   "metadata": {},
   "source": [
    "# Q#2: Test Circle.__contains__"
   ]
  },
  {
   "cell_type": "code",
   "execution_count": 86,
   "metadata": {
    "scrolled": false
   },
   "outputs": [
    {
     "name": "stdout",
     "output_type": "stream",
     "text": [
      "\n",
      "test_case: \n",
      "Shape(id=3)\n",
      "Shape(id=3):         \n",
      "Shape(id=4)\n",
      "Shape(id=4):         \n",
      "Shape(id=5)\n",
      "Shape(id=5):         \n",
      "\n",
      "test_case: pass!\n",
      "\n",
      "test_case: \n",
      "Shape(id=6)\n",
      "Shape(id=6):         \n",
      "Shape(id=7)\n",
      "Shape(id=7):         \n",
      "Shape(id=8)\n",
      "Shape(id=8):         \n",
      "\n",
      "test_case: pass!\n"
     ]
    },
    {
     "name": "stderr",
     "output_type": "stream",
     "text": [
      "----------------------------------------------------------------------\n",
      "Ran 2 tests in 0.042s\n",
      "\n",
      "OK\n"
     ]
    }
   ],
   "source": [
    "def test_case_2(self):\n",
    "    \"\"\"test Circle.__contains__\"\"\"\n",
    "    # test Circle.__contains__\n",
    "    ans =  \"\\n\" + inspect.stack()[0][3] + \": \\n\"\n",
    "    c1 = Circle (0,0, radius=10)\n",
    "    c2 = Circle (5,0, radius=5)\n",
    "    c3 = Circle (10,0, radius=5)\n",
    "    b2 = c2 in c1\n",
    "    b3 = c3 in c1\n",
    "    ans += \"c2 inside c1 = {:s}.\\n\".format(str(b2))  \n",
    "    ans += \"c3 inside c1 = {:s}.\\n\".format(str(b3))  \n",
    "\n",
    "    self.check (ans,4001, True)\n",
    "    \n",
    "TestShapeMethod.test_case_2 = test_case\n",
    "unittest.main(argv=[''], verbosity=0, exit=False)\n",
    "\n",
    "TestShapeMethod.test_Circle_contains = None\n",
    "\n",
    "    \n",
    "s=\"\"\" \n",
    "\n",
    "Expected outputs (except the id numbers and the spaces could be different\n",
    "\n",
    "test_Circle_contains: \n",
    "c2 inside c1 = True.\n",
    "c3 inside c1 = False.\n",
    "\n",
    "test_Circle_contains: pass!\n",
    "\"\"\""
   ]
  },
  {
   "cell_type": "markdown",
   "metadata": {},
   "source": [
    "# Q#3: Test Circle"
   ]
  },
  {
   "cell_type": "code",
   "execution_count": 87,
   "metadata": {},
   "outputs": [
    {
     "name": "stdout",
     "output_type": "stream",
     "text": [
      "\n",
      "test_case: \n",
      "Circle(id=9)\n",
      "Circle(id=9):        area=314, radius: 10.0, center: (3,3)\n",
      "\n",
      "test_case: pass!\n",
      "\n",
      "test_case: \n",
      "Shape(id=10)\n",
      "Shape(id=10):        \n",
      "Shape(id=11)\n",
      "Shape(id=11):        \n",
      "Shape(id=12)\n",
      "Shape(id=12):        \n",
      "\n",
      "test_case: pass!\n"
     ]
    },
    {
     "name": "stderr",
     "output_type": "stream",
     "text": [
      "----------------------------------------------------------------------\n",
      "Ran 2 tests in 0.043s\n",
      "\n",
      "OK\n"
     ]
    }
   ],
   "source": [
    "# test Circle.relocate and Circle.moveBy\n",
    "def test_case(self):\n",
    "    ans =  \"\\n\" + inspect.stack()[0][3] + \": \\n\"\n",
    "    c  = Circle (0,0,radius=10)\n",
    "    c.relocate(2,2)\n",
    "    c.moveBy(1,1)\n",
    "    ans += str (c) + \"\\n\"\n",
    "    ans += str (c.details() ) + \"\\n\"\n",
    "\n",
    "    self.check (ans,4792, True)\n",
    "    \n",
    "TestShapeMethod.test_case = test_case\n",
    "unittest.main(argv=[''], verbosity=0, exit=False)\n",
    "\n",
    "s=\"\"\"\n",
    "  Expected outputs (except the id numbers and the spaces could be different\n",
    "\n",
    "\n",
    "test_case: \n",
    "Circle(id=366)\n",
    "Circle(id=366):      area=314, radius: 10.0, center: (3,3)\n",
    "\n",
    "test_case: pass!        ]\n",
    "\"\"\""
   ]
  },
  {
   "cell_type": "markdown",
   "metadata": {},
   "source": [
    "# Q#4: Test Circle.dist"
   ]
  },
  {
   "cell_type": "code",
   "execution_count": 88,
   "metadata": {},
   "outputs": [
    {
     "name": "stdout",
     "output_type": "stream",
     "text": [
      "\n",
      "test_case: \n",
      "dist = 30.0\n",
      "\n",
      "test_case: pass!\n",
      "\n",
      "test_case: \n",
      "Shape(id=15)\n",
      "Shape(id=15):        \n",
      "Shape(id=16)\n",
      "Shape(id=16):        \n",
      "Shape(id=17)\n",
      "Shape(id=17):        \n",
      "\n",
      "test_case: pass!\n"
     ]
    },
    {
     "name": "stderr",
     "output_type": "stream",
     "text": [
      "----------------------------------------------------------------------\n",
      "Ran 2 tests in 0.034s\n",
      "\n",
      "OK\n"
     ]
    }
   ],
   "source": [
    "# test Circle.dist\n",
    "def test_case(self):\n",
    "    ans =  \"\\n\" + inspect.stack()[0][3] + \": \\n\"\n",
    "    \n",
    "    c1  = Circle (0,0, radius=10)\n",
    "    c2  = Circle (30,40, radius=10)\n",
    "    d = c1.dist(c2)\n",
    "    ans  += \"dist = {:.1f}\".format (d) + \"\\n\"\n",
    "    self.check (ans,1703, True)\n",
    "\n",
    "TestShapeMethod.test_case = test_case\n",
    "unittest.main(argv=[''], verbosity=0, exit=False)\n",
    "\n",
    "s=\"\"\" Expected outputs (except the id numbers and the spaces could be different\n",
    "\n",
    "test_case: \n",
    "dist = 30.0\n",
    "\n",
    "test_case: pass!         ]\n",
    "\"\"\""
   ]
  },
  {
   "cell_type": "markdown",
   "metadata": {},
   "source": [
    "# class Point (Circle):  A special Circle with radius = 0"
   ]
  },
  {
   "cell_type": "code",
   "execution_count": 89,
   "metadata": {},
   "outputs": [],
   "source": [
    "class Point (Circle): \n",
    "    \"\"\"A special Circle with radius = 0, thus it is a child class of Circle.\"\"\"\n",
    "    #xxx: must make use of the parent class constructor\n",
    "    def __init__(self,x,y): \n",
    "        \"\"\"Initialized private instance variables __x and __y \"\"\"\n",
    "        super().__init__(x, y, 0) # radius = 0 inherit circle\n",
    "      \n",
    "    def cross_product (self, o):\n",
    "        \"\"\"helper function to compute the polygon area.\"\"\"\n",
    "        x = self.x * o.y\n",
    "        y = self.y * o.x\n",
    "        \n",
    "        return x-y\n",
    "    \n",
    "    def __str__(self):  # override the inherited function from the parent class\n",
    "        \"\"\"a string representation of the object\"\"\"\n",
    "        s = \"({:d},{:d})\".format (self.x, self.y)\n",
    "        return s\n",
    "\n",
    "    def details(self): # override the inherited function from the parent class\n",
    "        \"\"\"a string representation of the object\"\"\"\n",
    "        s = super().__str__()\n",
    "        s += \", loc=({:d},{:d})\".format (self.x, self.y)\n",
    "        return s"
   ]
  },
  {
   "cell_type": "markdown",
   "metadata": {},
   "source": [
    "# Q#5: Test Point"
   ]
  },
  {
   "cell_type": "code",
   "execution_count": 90,
   "metadata": {
    "scrolled": true
   },
   "outputs": [
    {
     "name": "stdout",
     "output_type": "stream",
     "text": [
      "\n",
      "test_case: \n",
      "(0,0)\n",
      "(3,4)\n",
      "Point(id=18), loc=(0,0)\n",
      "Point(id=19), loc=(3,4)\n",
      "d1 = 5.0\n",
      "test_case: pass!\n",
      "\n",
      "test_case: \n",
      "Shape(id=20)\n",
      "Shape(id=20):        \n",
      "Shape(id=21)\n",
      "Shape(id=21):        \n",
      "Shape(id=22)\n",
      "Shape(id=22):        \n",
      "\n",
      "test_case: pass!\n"
     ]
    },
    {
     "name": "stderr",
     "output_type": "stream",
     "text": [
      "----------------------------------------------------------------------\n",
      "Ran 2 tests in 0.041s\n",
      "\n",
      "OK\n"
     ]
    }
   ],
   "source": [
    "# test Point.reloate and Point.dist\n",
    "def test_case(self):\n",
    "    ans =  \"\\n\" + inspect.stack()[0][3] + \": \\n\"\n",
    "    \n",
    "    p0 = Point (0,0)\n",
    "    p1 = Point (0,0)\n",
    "    p1.relocate (1,0)\n",
    "    d0 = p0.dist(p1)\n",
    "    p1.relocate (3,4)\n",
    "    d1 = p0.dist(p1)\n",
    "    ans += str(p0) + \"\\n\"\n",
    "    ans += str(p1) + \"\\n\"\n",
    "    ans += p0.details() + \"\\n\"\n",
    "    ans += p1.details() + \"\\n\"\n",
    "    ans += \"d1 = {:.1f}\".format(d1)\n",
    "    \n",
    "    self.check (ans,4158, True)\n",
    "\n",
    "TestShapeMethod.test_case = test_case\n",
    "unittest.main(argv=[''], verbosity=0, exit=False)\n",
    "\n",
    "\n",
    "\n",
    "s=\"\"\" Expected outputs (except the id numbers and the spaces could be different\n",
    "\n",
    "test_case: \n",
    "(0,0)\n",
    "(3,4)\n",
    "Point(id=30), loc=(0,0)\n",
    "Point(id=31), loc=(3,4)\n",
    "d1 = 5.0\n",
    "test_case: pass!\n",
    "\"\"\"\n"
   ]
  },
  {
   "cell_type": "code",
   "execution_count": null,
   "metadata": {},
   "outputs": [],
   "source": []
  },
  {
   "cell_type": "markdown",
   "metadata": {},
   "source": [
    "# class Polygon (Shape):\n",
    "\n",
    "* We assume that  Polygon is convex"
   ]
  },
  {
   "cell_type": "code",
   "execution_count": 91,
   "metadata": {},
   "outputs": [],
   "source": [
    "class Polygon (Shape):\n",
    "    \"\"\"A Child class of Shape.\n",
    "       A convex polygon represented as a list of vertices of class Point.\n",
    "       To compute the area correctly, the polygon has to be convex\n",
    "    \"\"\"\n",
    "    \n",
    "    def __init__ (self, inputs):\n",
    "        \"\"\"inputs is a list of tuples like  [ (x1,y1), (x2,y2), ... ]\n",
    "           Convert inputs to be a list of Points as the Polygon vertices\n",
    "        \"\"\"\n",
    "        super().__init__()\n",
    "        n = len (inputs)\n",
    "        self.__vertex=[]\n",
    "        \n",
    "        ##add each point to vertex list\n",
    "        for i,j in inputs:\n",
    "            self.__vertex.append ( Point(i,j))\n",
    "            #When vertex adds point objects, the format changed as Point object\n",
    "    \n",
    "    \n",
    "    # You will return a reference to the same object stored in this class\n",
    "    # The object stored in the class can be changed outside of the class\n",
    "    def vertex(self, i):\n",
    "        return copy.deepcopy(self.__vertex[i])\n",
    "        ##deep copy add datas to new object\n",
    "        ##copy copy the reference of original elements \n",
    "    \n",
    "    #xxx: implement the following \n",
    "    def relocate_a_vertex(self,i, x,y):\n",
    "        \n",
    "        \"\"\"relocate vertex i to the new location (x,Y)\"\"\"\n",
    "        if ( i>0 and i < len(self.__vertex)): # Point = self.__vertex[i]\n",
    "            \n",
    "            self.__vertex[i].relocate(x, y) # Relocate the Point- private list.setter method()\n",
    "            # self.__vertex[i].x = x # Change all x points of vertices\n",
    "            # self.__vertex[i].x = y # Change all y points of vertices\n",
    "        \n",
    "    #xxx: implement the following \n",
    "    def relocate(self,x,y):\n",
    "        \"\"\"relocate the polygon to (x,y) by moving all the vertices together such that\n",
    "           vertex[0] is located at (x,y) and all other vertices will be relocated with the same displacement dx, and dy\n",
    "           hints: moveBy \n",
    "        \"\"\"\n",
    "        dx = x - self.__vertex[0].x # Distance of x relocation \n",
    "        dy = y - self.__vertex[0].y # Distance of y relocation \n",
    "        self.moveBy(dx, dy) # Move all vertices\n",
    "    \n",
    "    #xxx: implement the following             \n",
    "    def moveBy(self, dx, dy):\n",
    "        \"\"\"add an offset (dx,dy) to each vertex of  Polygon\"\"\"\n",
    "        \n",
    "        #xxx: make use of the Point.moveBy method\n",
    "        \n",
    "        for v in self.__vertex: # Get each vertex from list (will call point.moveBy method for each vertex)\n",
    "            v.moveBy(dx, dy) # We inherit moveBy from Point which inherits from Circle: Point.moveBy\n",
    "             \n",
    "    #xxx: implement the following             \n",
    "    def area (self):\n",
    "\n",
    "        #xxx: have to make use of the Point.cross_product(q) method\n",
    "        area = 0\n",
    "        for i in range(0, self.__len__()):\n",
    "             # Point = self.__vertex[i]\n",
    "                \n",
    "            if(i == self.__len__() - 1): # If last index\n",
    "                area += self.__vertex[i].cross_product(self.__vertex[0]) # Point = self.__vertex[i]\n",
    "                \n",
    "            else:\n",
    "                area += self.__vertex[i].cross_product(self.__vertex[i + 1]) # Point = self.__vertex[i]\n",
    "            \n",
    "        return abs(area / 2) # Area cannot be negative\n",
    "    \n",
    "    def __len__(self):\n",
    "        \"\"\"The number of vertices of the polygon\"\"\"\n",
    "        return len(self.__vertex)\n",
    "     \n",
    "        \n",
    "    #xxx: implement the following             \n",
    "    def perimeter (self):\n",
    "        \"\"\"The sum of all side length of Polygon\"\"\"\n",
    "        perimeter = 0\n",
    "        \n",
    "        for i in range(0, self.__len__()):\n",
    "            perimeter += self.side_length(i) # Sum up length of all sides\n",
    "            \n",
    "        return perimeter\n",
    "    \n",
    "    #xxx: implement the following             \n",
    "    def side_length (self, i=0):\n",
    "        \"\"\"The length of the side from vertex i to the next\"\"\" # have to make use of the Point.dist method\n",
    "        \n",
    "        if(i == self.__len__() - 1): # If indexing last vertex\n",
    "            \n",
    "            return self.__vertex[i].dist(self.__vertex[0]) # Point = self.__vertex[i] - uses self as a param\n",
    "            #distance between two points(first vertex and last vertex)\n",
    "        else:\n",
    "            \n",
    "            return self.__vertex[i].dist(self.__vertex[i+1]) # Point = self.__vertex[i] - uses self as a param\n",
    "            #distance between two points        \n",
    "\n",
    "    def details (self):\n",
    "        \"\"\"Detailed description about Polygon\"\"\"\n",
    "        s = super().details() \n",
    "        s += \" <vertex:\"\n",
    "        for p in self.__vertex:\n",
    "            s += str(p) \n",
    "        s += \">\"\n",
    "        n = len(self.__vertex)\n",
    "        if ( n > 2):\n",
    "            s += \", area={:.0f}\".format (self.area() )\n",
    "            s += \", perimeter={:.0f}\".format (self.perimeter() )\n",
    "        elif n == 2:\n",
    "            s += \", length={:.0f}\".format (self.perimeter()/2.0 )\n",
    "        return s"
   ]
  },
  {
   "cell_type": "markdown",
   "metadata": {},
   "source": [
    "# Q#6: Test Polygon"
   ]
  },
  {
   "cell_type": "code",
   "execution_count": 92,
   "metadata": {},
   "outputs": [
    {
     "name": "stdout",
     "output_type": "stream",
     "text": [
      "\n",
      "test_case: \n",
      "Polygon(id=23)\n",
      "Polygon(id=23):       <vertex:(0,0)(10,0)(10,10)(0,10)>, area=100, perimeter=40\n",
      "\n",
      "test_case: pass!\n",
      "\n",
      "test_case: \n",
      "Shape(id=28)\n",
      "Shape(id=28):        \n",
      "Shape(id=29)\n",
      "Shape(id=29):        \n",
      "Shape(id=30)\n",
      "Shape(id=30):        \n",
      "\n",
      "test_case: pass!\n"
     ]
    },
    {
     "name": "stderr",
     "output_type": "stream",
     "text": [
      "----------------------------------------------------------------------\n",
      "Ran 2 tests in 0.078s\n",
      "\n",
      "OK\n"
     ]
    }
   ],
   "source": [
    "def test_case(self):\n",
    "    ans =  \"\\n\" + inspect.stack()[0][3] + \": \\n\"\n",
    " \n",
    "    p = Polygon ( [(0,0),(10,0), (10,10), (0,10)])\n",
    "    ans += str(p) + \"\\n\"\n",
    "    ans += p.details() + \"\\n\"\n",
    "\n",
    "    \n",
    "    self.check (ans,6326, True)\n",
    "\n",
    "TestShapeMethod.test_case = test_case\n",
    "unittest.main(argv=[''], verbosity=0, exit=False)\n",
    "\n",
    "s=\"\"\" Expected outputs (except the id numbers and the spaces could be different\n",
    "\n",
    "test_case: \n",
    "Polygon(id=49)\n",
    "Polygon(id=49):       <vertex:(0,0)(10,0)(10,10)(0,10)>, area=100, perimeter=40\n",
    "\n",
    "test_case: pass!\n",
    "\"\"\"\n"
   ]
  },
  {
   "cell_type": "markdown",
   "metadata": {},
   "source": [
    "# class Segment (Polygon): 2-point polygon"
   ]
  },
  {
   "cell_type": "code",
   "execution_count": 93,
   "metadata": {},
   "outputs": [],
   "source": [
    "class Segment (Polygon):\n",
    "    #xxx implement the following\n",
    "    def __init__ (self, pts):\n",
    "        super().__init__(pts) # make use of the parent __init__ method\n",
    "        \n",
    "    def details (self):\n",
    "        \"\"\"To override the Polygon.details()\"\"\"\n",
    "        s = super().details() \n",
    "        s += \" <vertex:\"\n",
    "        \n",
    "        for i in range (2):\n",
    "            p = self.vertex(i)\n",
    "            s += str(p) \n",
    "        \n",
    "        s += \">\"\n",
    "        s += \", length={:.0f}\".format (self.perimeter()/2.0 )\n",
    "        return s"
   ]
  },
  {
   "cell_type": "markdown",
   "metadata": {},
   "source": [
    "# Q#7: Test Segment"
   ]
  },
  {
   "cell_type": "code",
   "execution_count": 94,
   "metadata": {},
   "outputs": [
    {
     "name": "stdout",
     "output_type": "stream",
     "text": [
      "\n",
      "test_case: \n",
      "Segment(id=31)\n",
      "Segment(id=31):       <vertex:(0,0)(3,4)>, length=5 <vertex:(0,0)(3,4)>, length=5\n",
      "\n",
      "test_case: pass!\n",
      "\n",
      "test_case: \n",
      "Shape(id=34)\n",
      "Shape(id=34):        \n",
      "Shape(id=35)\n",
      "Shape(id=35):        \n",
      "Shape(id=36)\n",
      "Shape(id=36):        \n",
      "\n",
      "test_case: pass!\n"
     ]
    },
    {
     "name": "stderr",
     "output_type": "stream",
     "text": [
      "----------------------------------------------------------------------\n",
      "Ran 2 tests in 0.044s\n",
      "\n",
      "OK\n"
     ]
    }
   ],
   "source": [
    "def test_case (self):\n",
    "    ans =  \"\\n\" + inspect.stack()[0][3] + \": \\n\"\n",
    " \n",
    "    seg = [ (0,0), (3,4)]\n",
    "    s = Segment(seg)\n",
    "    ans += str (s) + \"\\n\"\n",
    "    ans += s.details() + \"\\n\"\n",
    "\n",
    "    \n",
    "    self.check (ans,6715, True)\n",
    "\n",
    "TestShapeMethod.test_case = test_case\n",
    "\n",
    "unittest.main(argv=[''], verbosity=0, exit=False)\n",
    "\n",
    "s=\"\"\" Expected outputs (except the id numbers and the spaces could be different\n",
    "\n",
    "test_case: \n",
    "Segment(id=179)\n",
    "Segment(id=179):      <vertex:(0,0)(3,4)>, length=5 <vertex:(0,0)(3,4)>, length=5\n",
    "\n",
    "test_case: pass!\n",
    "\"\"\"\n",
    "\n"
   ]
  },
  {
   "cell_type": "markdown",
   "metadata": {},
   "source": [
    "# class Triangle (Polygon):"
   ]
  },
  {
   "cell_type": "code",
   "execution_count": 95,
   "metadata": {},
   "outputs": [],
   "source": [
    "class Triangle (Polygon):\n",
    "    #xxx implement the following\n",
    "    def __init__ (self, pts):\n",
    "        super().__init__(pts) # make use of the parent __init__ method"
   ]
  },
  {
   "cell_type": "markdown",
   "metadata": {},
   "source": [
    "# Q#8: Test Triangle"
   ]
  },
  {
   "cell_type": "code",
   "execution_count": 96,
   "metadata": {},
   "outputs": [
    {
     "name": "stdout",
     "output_type": "stream",
     "text": [
      "\n",
      "test_case: \n",
      "Triangle(id=37)\n",
      "Triangle(id=37):      <vertex:(0,0)(10,0)(5,5)>, area=25, perimeter=24\n",
      "\n",
      "test_case: pass!\n",
      "\n",
      "test_case: \n",
      "Shape(id=41)\n",
      "Shape(id=41):        \n",
      "Shape(id=42)\n",
      "Shape(id=42):        \n",
      "Shape(id=43)\n",
      "Shape(id=43):        \n",
      "\n",
      "test_case: pass!\n"
     ]
    },
    {
     "name": "stderr",
     "output_type": "stream",
     "text": [
      "----------------------------------------------------------------------\n",
      "Ran 2 tests in 0.041s\n",
      "\n",
      "OK\n"
     ]
    }
   ],
   "source": [
    "def test_case (self):\n",
    "    ans =  \"\\n\" + inspect.stack()[0][3] + \": \\n\"\n",
    " \n",
    "    s = Triangle ( [(0,0), (10,0), (5,5)] )\n",
    "\n",
    "    ans += str (s) + \"\\n\"\n",
    "    ans += s.details() + \"\\n\"\n",
    "\n",
    "    \n",
    "    self.check (ans,6084, True)\n",
    "\n",
    "TestShapeMethod.test_case = test_case\n",
    "\n",
    "unittest.main(argv=[''], verbosity=0, exit=False)\n",
    "\n",
    "\n",
    "s=\"\"\" Expected outputs (except the id numbers and the spaces could be different\n",
    "\n",
    "\n",
    "test_case: \n",
    "Triangle(id=192)\n",
    "Triangle(id=192):     <vertex:(0,0)(10,0)(5,5)>, area=25, perimeter=24\n",
    "\n",
    "test_case: pass!\n",
    "\"\"\""
   ]
  },
  {
   "cell_type": "markdown",
   "metadata": {},
   "source": [
    "# class Rectangle (Polygon):"
   ]
  },
  {
   "cell_type": "code",
   "execution_count": 119,
   "metadata": {},
   "outputs": [],
   "source": [
    "class Rectangle (Polygon):\n",
    "    # xxx: have to invoke __init__ of the parent class Polygon\n",
    "    # xxx: cannot have any local variable\n",
    "    \n",
    "    def __init__ (self, x=0,y=0, width=0, height=0):\n",
    "        p0 = (0,0)\n",
    "        p1 = (width,0)\n",
    "        p2 = (width,height)\n",
    "        p3 = (0,height)\n",
    "        ## assign each vertex of rectangle\n",
    "        super().__init__([p0,p1,p2,p3])\n",
    "\n",
    "    #qqq: Should we implement it in the child class Rectangle\n",
    "   \n",
    "    \n",
    "    def __contains__(self,other):\n",
    "        \"\"\"Check if Rectangle self contains Rectangle or Point other \"\"\"\n",
    "        p,q = self.vertex(0), self.vertex(2)\n",
    "        \n",
    "        if other.__class__==Point:\n",
    "            a = other.x\n",
    "            b = other.y\n",
    "        else:\n",
    "            p, q = other.vertex(0), other.vertex(2)\n",
    "            \n",
    "        return a.x >= p.x and b.x <= q.x and a.y >= p.y and b.y <= q.y\n",
    "\n",
    "    \n",
    "    #xxx: extend Rectangle minimally to contain a given polygon\n",
    "    def enclose(self, other):\n",
    "        \"\"\"Enlarge Rectangle to contain a given polygon 'other'\n",
    "            with the minimum increase of the rectangular area\n",
    "        \"\"\"\n",
    "        enclosedRectangle = self.union(other)\n",
    "        # union integrates object other and self\n",
    "        \n",
    "        for i in range(self.__len__()): # Relocate vertices\n",
    "            self.relocate_a_vertex(i, enclosedRectangle.vertex(i).x, enclosedRectangle.vertex(i).y)\n",
    "        \n",
    "            \n",
    "    #xxx: implement the following\n",
    "    def __add__ (self, other):\n",
    "        \"\"\"Overload the operator + as the union of two Rectangles \"\"\"\n",
    "        # return self.union(other)\n",
    "        self = self.union(other) # Modify self\n",
    "\n",
    "    #xxx: implement the following\n",
    "    def __and__ (self, other):\n",
    "        \"\"\"Overload the operator & as the intersection of two Rectangles \"\"\"\n",
    "        # return self.intersection(other)\n",
    "        self = self.intersection(other) # Modify self\n",
    "    \n",
    "    \n",
    "    def union (self,other):\n",
    "        \"\"\"Get the smallest rectangle that contains both rectangles self and other\n",
    "        \"\"\"\n",
    "        p0,p1 = self.vertex(0), self.vertex(2)\n",
    "        \n",
    "        if other.__class__ == Point:\n",
    "            q0=q1=other\n",
    "            \n",
    "        else:\n",
    "            q0,q1 = other.vertex(0), other.vertex(2)\n",
    "            \n",
    "        min_x = min (p0.x, q0.x)\n",
    "        max_x = max (p1.x, q1.x )\n",
    "        min_y = min (p0.y, q0.y )\n",
    "        max_y = max (p1.y, q1.y )\n",
    "        w = max_x - min_x\n",
    "        h = max_y - min_y\n",
    "        r = None\n",
    "        \n",
    "        if (w>=0 and h >=0):\n",
    "            \n",
    "            if w==h:\n",
    "                r = Square (width=w)\n",
    "                \n",
    "            else:\n",
    "                r = Rectangle (width=w,height=h)\n",
    "                \n",
    "            r.relocate (min_x,min_y)\n",
    "        return r\n",
    "            \n",
    "    #xxx: implement the following\n",
    "    def intersection (self,other):\n",
    "        \"\"\"Get the intersected area of Rectangles self and other\n",
    "           Return None if no intersection\n",
    "        \"\"\"\n",
    "        p0,p1 = self.vertex(0), self.vertex(2)\n",
    "        ##copy vertex(index)\n",
    "        \n",
    "        if other.__class__ == Point:\n",
    "            q0=q1=other\n",
    "            \n",
    "        else:\n",
    "            q0,q1 = other.vertex(0), other.vertex(2)\n",
    "        max_x = max (p0.x, q0.x)\n",
    "        min_x = min (p1.x, q1.x)\n",
    "        max_y = max (p0.y, q0.y)\n",
    "        min_y = min (p1.y, q1.y)\n",
    "        \n",
    "        w = abs(min_x - max_x)\n",
    "        h = abs(min_y - max_y)\n",
    "        \n",
    "        r = None\n",
    "        if (w <= 0 and h <= 0): # Switch signs\n",
    "            if w==h:\n",
    "                r = Square (width=w)\n",
    "            else:\n",
    "                r = Rectangle (width=w,height=h)\n",
    "            r.relocate (max_x, max_y)\n",
    "        return r\n",
    "\n",
    "    #xxx: implement the following\n",
    "    def overlap (self,other):\n",
    "        \"\"\"return True if Rectangle self and other intersect\"\"\"\n",
    "        return self.intersection(other) == None # Returns None if no intersection\n",
    "\n",
    "    def width(self):\n",
    "        \"\"\"The width of a rectangle = the length of side 0 (from vertex 0 to vertex 1).\"\"\"\n",
    "        return self.side_length(0)\n",
    "    \n",
    "    #xxx: implement the following\n",
    "    def height (self):\n",
    "        \"\"\"The height of a rectangle = the length of side 1(from vertex 1 to vertex 2). \"\"\"\n",
    "        return self.side_length(1) # Length between vertex[1] and vertex[2]\n",
    "\n",
    "    def details (self):\n",
    "        \"\"\"Override the same function in the parent class\"\"\"\n",
    "        s = super().details()\n",
    "        w = self.width()\n",
    "        h = self.height()\n",
    "        s += \" <w={:.0f},h={:.0f}>\".format (w,h )\n",
    "        return s    "
   ]
  },
  {
   "cell_type": "markdown",
   "metadata": {},
   "source": [
    "# Q#9: Test Rectangle"
   ]
  },
  {
   "cell_type": "code",
   "execution_count": 120,
   "metadata": {},
   "outputs": [
    {
     "name": "stdout",
     "output_type": "stream",
     "text": [
      "\n",
      "test_case: \n",
      "Rectangle(id=242)\n",
      "Rectangle(id=242):    <vertex:(0,0)(3,0)(3,4)(0,4)>, area=12, perimeter=14 <w=3,h=4>\n",
      "\n",
      "test_case: pass!\n",
      "\n",
      "test_case: \n",
      "Shape(id=247)\n",
      "Shape(id=247):       \n",
      "Shape(id=248)\n",
      "Shape(id=248):       \n",
      "Shape(id=249)\n",
      "Shape(id=249):       \n",
      "\n",
      "test_case: pass!\n"
     ]
    },
    {
     "name": "stderr",
     "output_type": "stream",
     "text": [
      "----------------------------------------------------------------------\n",
      "Ran 2 tests in 0.054s\n",
      "\n",
      "OK\n"
     ]
    }
   ],
   "source": [
    "def test_case (self):\n",
    "    ans =  \"\\n\" + inspect.stack()[0][3] + \": \\n\"\n",
    " \n",
    "    s = Rectangle ( width=3, height=4)\n",
    "\n",
    "    ans += str (s) + \"\\n\"\n",
    "    ans += s.details() + \"\\n\"\n",
    "    \n",
    "    self.check (ans,7059, True)\n",
    "\n",
    "TestShapeMethod.test_case = test_case\n",
    "\n",
    "unittest.main(argv=[''], verbosity=0, exit=False)\n",
    "\n",
    "\n",
    "s=\"\"\" Expected outputs (except the id numbers and the spaces could be different\n",
    "\n",
    "test_case: \n",
    "Rectangle(id=240)\n",
    "Rectangle(id=240):    <vertex:(0,0)(3,0)(3,4)(0,4)>, area=12, perimeter=14 <w=3,h=4>\n",
    "\n",
    "test_case: pass!\n",
    "\"\"\""
   ]
  },
  {
   "cell_type": "markdown",
   "metadata": {},
   "source": [
    "# class Square (Rectangle):"
   ]
  },
  {
   "cell_type": "code",
   "execution_count": 121,
   "metadata": {},
   "outputs": [],
   "source": [
    "class Square (Rectangle):\n",
    "    # xxx implement the following\n",
    "    def __init__ (self,  x=0,y=0,width=0):\n",
    "        \"\"\"Override the same function in the parent class\"\"\"\n",
    "        super().__init__( x,y, width, width) #xxx must make use of the __init__ method of super class\n",
    "    #xxx do not add and other instance methods or variables except __init__"
   ]
  },
  {
   "cell_type": "markdown",
   "metadata": {},
   "source": [
    "# Q#10: More Rectangle.union and Rectangle.enclose"
   ]
  },
  {
   "cell_type": "code",
   "execution_count": 122,
   "metadata": {},
   "outputs": [
    {
     "name": "stdout",
     "output_type": "stream",
     "text": [
      "\n",
      "test_case: \n",
      "Rectangle(id=250)\n",
      "Rectangle(id=250):    <vertex:(0,0)(3,0)(3,4)(0,4)>, area=12, perimeter=14 <w=3,h=4>\n",
      "Rectangle(id=255):    <vertex:(0,0)(2,0)(2,2)(0,2)>, area=4, perimeter=8 <w=2,h=2>\n",
      "\n",
      "test_case: pass!\n",
      "\n",
      "test_case: \n",
      "Shape(id=277)\n",
      "Shape(id=277):       \n",
      "Shape(id=278)\n",
      "Shape(id=278):       \n",
      "Shape(id=279)\n",
      "Shape(id=279):       \n",
      "\n",
      "test_case: pass!\n"
     ]
    },
    {
     "name": "stderr",
     "output_type": "stream",
     "text": [
      "----------------------------------------------------------------------\n",
      "Ran 2 tests in 0.048s\n",
      "\n",
      "OK\n"
     ]
    }
   ],
   "source": [
    "#yyy center\n",
    "def test_case (self):\n",
    "    ans =  \"\\n\" + inspect.stack()[0][3] + \": \\n\"\n",
    " \n",
    "    s = Rectangle ( width=3, height=4)\n",
    "\n",
    "    ans += str (s) + \"\\n\"\n",
    "    ans += s.details() + \"\\n\"\n",
    "\n",
    "    r = Rectangle (0,0)\n",
    "    p = Point (1,1)\n",
    "    x = r.union (p)\n",
    "    r.enclose (p)\n",
    "    r.enclose ( Point(2,2))\n",
    "    ans += r.details() + \"\\n\"\n",
    "    \n",
    "    self.check (ans,12087, True)\n",
    "\n",
    "TestShapeMethod.test_case = test_case\n",
    "\n",
    "unittest.main(argv=[''], verbosity=0, exit=False)\n",
    "\n",
    "s=\"\"\" Expected outputs (except the id numbers and the spaces could be different\n",
    "test_case: \n",
    "Rectangle(id=202)\n",
    "Rectangle(id=202):    <vertex:(0,0)(3,0)(3,4)(0,4)>, area=12, perimeter=14 <w=3,h=4>\n",
    "Rectangle(id=207):    <vertex:(0,0)(2,0)(2,2)(0,2)>, area=4, perimeter=8 <w=2,h=2>\n",
    "\n",
    "test_case: pass!\n",
    "\"\"\""
   ]
  },
  {
   "cell_type": "markdown",
   "metadata": {},
   "source": [
    "# Q#11: Test Square.moveBy"
   ]
  },
  {
   "cell_type": "code",
   "execution_count": 123,
   "metadata": {},
   "outputs": [
    {
     "name": "stdout",
     "output_type": "stream",
     "text": [
      "\n",
      "test_case: \n",
      "Square(id=280)\n",
      "Square(id=280):       <vertex:(5,5)(10,5)(10,10)(5,10)>, area=25, perimeter=20 <w=5,h=5>\n",
      "\n",
      "test_case: pass!\n",
      "\n",
      "test_case: \n",
      "Shape(id=285)\n",
      "Shape(id=285):       \n",
      "Shape(id=286)\n",
      "Shape(id=286):       \n",
      "Shape(id=287)\n",
      "Shape(id=287):       \n",
      "\n",
      "test_case: pass!\n"
     ]
    },
    {
     "name": "stderr",
     "output_type": "stream",
     "text": [
      "----------------------------------------------------------------------\n",
      "Ran 2 tests in 0.038s\n",
      "\n",
      "OK\n"
     ]
    }
   ],
   "source": [
    "def test_case (self):\n",
    "    ans =  \"\\n\" + inspect.stack()[0][3] + \": \\n\"\n",
    " \n",
    "    x = Square(width=5)\n",
    "    x.moveBy (5,5)\n",
    "\n",
    "    \n",
    "    ans += str(x) + \"\\n\"\n",
    "    ans += x.details() + \"\\n\"\n",
    "    \n",
    "    self.check (ans,6681, True)\n",
    "\n",
    "TestShapeMethod.test_case = test_case\n",
    "\n",
    "unittest.main(argv=[''], verbosity=0, exit=False)\n",
    "\n",
    "s=\"\"\" \n",
    "test_case: \n",
    "Square(id=327)\n",
    "Square(id=327):       <vertex:(5,5)(10,5)(10,10)(5,10)>, area=25, perimeter=20 <w=5,h=5>\n",
    "\n",
    "test_case: pass!\n",
    "\"\"\""
   ]
  },
  {
   "cell_type": "markdown",
   "metadata": {},
   "source": [
    "# The following staticmethod Shape.create() is used for the final test"
   ]
  },
  {
   "cell_type": "code",
   "execution_count": 124,
   "metadata": {},
   "outputs": [],
   "source": [
    "def create( pt, r=None):\n",
    "    n = len (pt)\n",
    "    if (r==None):\n",
    "        if n==1:\n",
    "            x,y = pt[0]\n",
    "            return Point ( x, y )\n",
    "        elif n==2:\n",
    "            return Segment ( pt)\n",
    "        elif n==3:\n",
    "            return Triangle ( pt)\n",
    "        else:\n",
    "            return Polygon ( pt)\n",
    "    elif n==1 :\n",
    "        x,y = pt[0]\n",
    "        if (r > 0):\n",
    "            return Circle (x,y,r)\n",
    "        else:\n",
    "            return Point (x,y)\n",
    "            \n",
    "Shape.create = staticmethod(create)"
   ]
  },
  {
   "cell_type": "markdown",
   "metadata": {},
   "source": [
    "# Q#12"
   ]
  },
  {
   "cell_type": "code",
   "execution_count": 125,
   "metadata": {},
   "outputs": [
    {
     "name": "stdout",
     "output_type": "stream",
     "text": [
      "\n",
      "test_case: \n",
      "(14,10)\n",
      "Point(id=288), loc=(14,10)\n",
      "Segment(id=289)\n",
      "Segment(id=289):      <vertex:(14,10)(8,5)>, length=8 <vertex:(14,10)(8,5)>, length=8\n",
      "Triangle(id=292)\n",
      "Triangle(id=292):     <vertex:(14,10)(8,5)(4,13)>, area=34, perimeter=27\n",
      "Polygon(id=296)\n",
      "Polygon(id=296):      <vertex:(14,10)(8,5)(4,13)(13,1)>, area=12, perimeter=41\n",
      "Polygon(id=301)\n",
      "Polygon(id=301):      <vertex:(14,10)(8,5)(4,13)(13,1)(16,11)>, area=21, perimeter=44\n",
      "\n",
      "test_case: pass!\n",
      "\n",
      "test_case: \n",
      "Shape(id=307)\n",
      "Shape(id=307):       \n",
      "Shape(id=308)\n",
      "Shape(id=308):       \n",
      "Shape(id=309)\n",
      "Shape(id=309):       \n",
      "\n",
      "test_case: pass!\n"
     ]
    },
    {
     "name": "stderr",
     "output_type": "stream",
     "text": [
      "----------------------------------------------------------------------\n",
      "Ran 2 tests in 0.050s\n",
      "\n",
      "OK\n"
     ]
    }
   ],
   "source": [
    "\n",
    "def test_case (self):\n",
    "    ans =  \"\\n\" + inspect.stack()[0][3] + \": \\n\"\n",
    "    pts =[(14, 10), (8, 5), (4, 13), (13, 1), (16, 11), (2, 17), (19, 19), (5, 10), (12, 8), (11, 11)]\n",
    "\n",
    "    for i in range (5):\n",
    "        x = Shape.create (pts[:i+1])    \n",
    "        ans += str(x) + \"\\n\"\n",
    "        ans += x.details() + \"\\n\"\n",
    "    \n",
    "    self.check (ans,24635, True)\n",
    "\n",
    "TestShapeMethod.test_case = test_case\n",
    "\n",
    "unittest.main(argv=[''], verbosity=0, exit=False)\n",
    "\n",
    "s=\"\"\" \n",
    "Expected outputs (except the id numbers and the spaces could be different\n",
    "\n",
    "test_case: \n",
    "(14,10)\n",
    "Point(id=99), loc=(14,10)\n",
    "Segment(id=100)\n",
    "Segment(id=100):      <vertex:(14,10)(8,5)>, length=8 <vertex:(14,10)(8,5)>, length=8\n",
    "Triangle(id=103)\n",
    "Triangle(id=103):     <vertex:(14,10)(8,5)(4,13)>, area=34, perimeter=27\n",
    "Polygon(id=107)\n",
    "Polygon(id=107):      <vertex:(14,10)(8,5)(4,13)(13,1)>, area=12, perimeter=41\n",
    "Polygon(id=112)\n",
    "Polygon(id=112):      <vertex:(14,10)(8,5)(4,13)(13,1)(16,11)>, area=21, perimeter=44\n",
    "\n",
    "test_case: pass!\n",
    "\"\"\""
   ]
  },
  {
   "cell_type": "code",
   "execution_count": null,
   "metadata": {},
   "outputs": [],
   "source": []
  },
  {
   "cell_type": "code",
   "execution_count": null,
   "metadata": {},
   "outputs": [],
   "source": []
  },
  {
   "cell_type": "code",
   "execution_count": null,
   "metadata": {},
   "outputs": [],
   "source": []
  },
  {
   "cell_type": "code",
   "execution_count": null,
   "metadata": {},
   "outputs": [],
   "source": []
  }
 ],
 "metadata": {
  "kernelspec": {
   "display_name": "Python 3",
   "language": "python",
   "name": "python3"
  },
  "language_info": {
   "codemirror_mode": {
    "name": "ipython",
    "version": 3
   },
   "file_extension": ".py",
   "mimetype": "text/x-python",
   "name": "python",
   "nbconvert_exporter": "python",
   "pygments_lexer": "ipython3",
   "version": "3.8.3"
  }
 },
 "nbformat": 4,
 "nbformat_minor": 4
}
